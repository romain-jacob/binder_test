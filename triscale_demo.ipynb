{
 "cells": [
  {
   "cell_type": "markdown",
   "metadata": {},
   "source": [
    "# TriScale Demo\n",
    "\n",
    "This notebook demonstrates TriScale, what the framework functions do, and its basic usage.\n",
    "\n",
    "\n",
    "## List of Imports"
   ]
  },
  {
   "cell_type": "code",
   "execution_count": null,
   "metadata": {},
   "outputs": [],
   "source": [
    "import os\n",
    "from pathlib import Path\n",
    "\n",
    "import pandas as pd\n",
    "import numpy as np\n",
    "\n",
    "import triscale\n",
    "\n",
    "\n",
    "%load_ext autoreload\n",
    "%autoreload 2"
   ]
  },
  {
   "cell_type": "markdown",
   "metadata": {},
   "source": [
    "## Experiment sizing\n",
    "\n",
    "During the design phase of an experiment, one important question to answer is \"how many time should the experiments be performed?\" \n",
    "\n",
    "... \n",
    "\n",
    "TriScale `experiment_sizing()` function directly returns the minimal number of samples required to estimate any KPI with any confidence level. You can try out sample values in the following cell."
   ]
  },
  {
   "cell_type": "code",
   "execution_count": null,
   "metadata": {},
   "outputs": [],
   "source": [
    "# Select the percentile we want to estimate \n",
    "percentile = 50\n",
    "\n",
    "# Select the desired level of confidence for the estimation\n",
    "confidence = 95 # in %\n",
    "\n",
    "# Compute the minimal number of samples N required\n",
    "triscale.experiment_sizing(\n",
    "    percentile, \n",
    "    confidence,\n",
    "    verbose=True);              "
   ]
  },
  {
   "cell_type": "markdown",
   "metadata": {},
   "source": [
    "To get a better feeling of how this minimal number of samples evolves this increasing confidence and more extreme percentiles, let us compute a range of minimal number of samples and display the results in a table (where the columns are the percentiles to estimate)."
   ]
  },
  {
   "cell_type": "code",
   "execution_count": null,
   "metadata": {},
   "outputs": [],
   "source": [
    "percentiles = [0.1, 1, 5, 10, 25, 50, 75, 90, 95, 99, 99.9]\n",
    "confidences = [75, 90, 95, 99, 99.9, 99.99]\n",
    "min_number_samples = []\n",
    "\n",
    "for c in confidences:\n",
    "    tmp = []\n",
    "    for p in percentiles:\n",
    "        N = triscale.experiment_sizing(p,c)\n",
    "        tmp.append(N[0])\n",
    "    min_number_samples.append(tmp)\n",
    "    \n",
    "df = pd.DataFrame(columns=percentiles, data=min_number_samples)\n",
    "df['Confidence level'] = confidences\n",
    "df.set_index('Confidence level', inplace=True)\n",
    "\n",
    "display(df)"
   ]
  },
  {
   "cell_type": "markdown",
   "metadata": {},
   "source": [
    "Conversely, we can derive what inter-sample ranges define a CI for a certain percentile and confidence level.\n",
    "\n",
    "(...)"
   ]
  },
  {
   "cell_type": "markdown",
   "metadata": {},
   "source": [
    "## Computation of metrics\n",
    "\n",
    "TriScale computes a metric ... (blablabla)\n",
    "\n",
    "Valid input format:  a two-dimentional series used for the computation of\n",
    "the metric: one control variate (x), one independent variate (y).\n",
    "- When a string is passed, `data` is expected to be a name of a csv file\n",
    "(comma separated) with `x` data in the first column and `y` data in the\n",
    "second column.\n",
    "- When a pandas DataFrame is passed, `data` must contain (at least)\n",
    "columns named `x` and `y`."
   ]
  },
  {
   "cell_type": "code",
   "execution_count": null,
   "metadata": {},
   "outputs": [],
   "source": [
    "# Input data file\n",
    "data = 'ExampleData/bbr_datalink_delay_run9_flow1.csv'\n",
    "\n",
    "# Definition of a TriScale metric\n",
    "metric = {  'measure': 50,   # The percentile used as metric\n",
    "            'name': 'One-way delay',   # For plotting only\n",
    "            'unit': 'ms',     # For plotting only\n",
    "            'bounds': [0,100], # Use for scaling (see convergence test description)\n",
    "         }\n",
    "\n",
    "convergence = {'expected': True}\n",
    "\n",
    "has_converged, metric_measure, plot = triscale.analysis_metric( \n",
    "    data,\n",
    "    metric,\n",
    "    plot=True,\n",
    "    convergence=convergence,\n",
    "    custom_layout=None)\n",
    "\n",
    "print(has_converged, metric_measure)"
   ]
  },
  {
   "cell_type": "markdown",
   "metadata": {},
   "source": [
    "When `plot=True` is passed as argument to the `analysis_metric` function, the raw data is plotted together with the convergence test information (shall the convergend be expected). To see this better, we can zoom in the previous plot:"
   ]
  },
  {
   "cell_type": "code",
   "execution_count": null,
   "metadata": {},
   "outputs": [],
   "source": [
    "plot.update_layout(yaxis_range=[64,68])\n",
    "plot.show()"
   ]
  },
  {
   "cell_type": "markdown",
   "metadata": {},
   "source": [
    "The `Metric` data are being computed over a sliding window of measured data points (`Data`). The convergence test constists in performing a linear regression (`Slope`). TriScale defines that a run _has converged_ when the slope of the linear regression is sufficiently close to 0. \n",
    "\n",
    "Formally, a run _has converged_ if the confidence interval for the regression slope falls within the tolerence. TriScale uses default values of 95% confidence level and 1% tolerence (controllable by the user - see the `convergence` parameter of the `analysis_metric` function."
   ]
  },
  {
   "cell_type": "markdown",
   "metadata": {},
   "source": [
    "## Computation of KPIs\n",
    "\n",
    "TriScale computes a metric ... (blablabla)"
   ]
  },
  {
   "cell_type": "markdown",
   "metadata": {},
   "source": [
    "## Computation of Variability Scores\n",
    "\n",
    "TriScale computes a metric ... (blablabla)"
   ]
  },
  {
   "cell_type": "markdown",
   "metadata": {},
   "source": [
    "## Network profiling"
   ]
  },
  {
   "cell_type": "code",
   "execution_count": null,
   "metadata": {},
   "outputs": [],
   "source": [
    "# Recompute\n",
    "# data_file = Path('UseCase_Glossy/Data_FlockLab/2019-08_FlockLab_sky.csv')\n",
    "# df = flocklab.parse_data_file(str(data_file), active_link_threshold=50)\n",
    "\n",
    "# Load\n",
    "df = pd.read_csv('ExampleData/network_profiling.csv')\n",
    "\n",
    "link_quality_bounds = [0,100]\n",
    "link_quality_name = 'PRR [%]'\n",
    "\n",
    "# Produce the plot\n",
    "fig_theil, fig_autocorr = triscale.network_profiling(\n",
    "                            df, \n",
    "                            link_quality_bounds, \n",
    "                            link_quality_name,\n",
    "                            )\n",
    "fig_autocorr.show()\n",
    "fig_theil.show()\n"
   ]
  },
  {
   "cell_type": "code",
   "execution_count": null,
   "metadata": {},
   "outputs": [],
   "source": []
  }
 ],
 "metadata": {
  "kernelspec": {
   "display_name": "Python 3",
   "language": "python",
   "name": "python3"
  },
  "language_info": {
   "codemirror_mode": {
    "name": "ipython",
    "version": 3
   },
   "file_extension": ".py",
   "mimetype": "text/x-python",
   "name": "python",
   "nbconvert_exporter": "python",
   "pygments_lexer": "ipython3",
   "version": "3.7.3"
  }
 },
 "nbformat": 4,
 "nbformat_minor": 2
}
